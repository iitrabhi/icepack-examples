{
 "cells": [
  {
   "cell_type": "markdown",
   "metadata": {},
   "source": [
    "# Larsen Ice Shelf\n",
    "\n",
    "This demo will involve using real data for the Larsen Ice Shelf in the Antarctic Peninsula.\n",
    "The use of real data will mostly change how we set up the simulation.\n",
    "The simulation itself -- involving successive prognostic and diagnostic solves of the physics model -- is virtually identical to what we saw in the last demo.\n",
    "\n",
    "To access the data, you'll need to have a login for [EarthData](https://urs.earthdata.nasa.gov/), the web portal through which NASA makes remote sensing data available to the public.\n",
    "Most of the ice sheet remote sensing data produced by American research institutions is hosted at the [National Snow and Ice Data Center (NSIDC)](https://www.nsidc.org) and an EarthData login is necessary to access data from NSIDC.\n",
    "\n",
    "The external data that we will use are:\n",
    "\n",
    "* the [BedMachine](https://nsidc.org/data/NSIDC-0756/versions/1) thickness map of Antarctica\n",
    "* a velocity map of Antarctica produced as part of the MEaSUREs program, which you can read more about [here](https://nsidc.org/data/nsidc-0484)\n",
    "* a satellite image of all of Antarctica taken from [MODIS](https://en.wikipedia.org/wiki/Moderate_Resolution_Imaging_Spectroradiometer)\n",
    "* an outline of the Larsen C Ice Shelf, which I created by tracing over this satellite image in a [geographic information system](https://en.wikipedia.org/wiki/Geographic_information_system).\n",
    "\n",
    "Rather than manually download these data sets from the websites they're hosted on, we'll call a few functions in the module `icepack.datasets` to fetch them for us.\n",
    "(Internally, these functions use a library called [pooch](https://github.com/fatiando/pooch) which handles things like caching the data so it doesn't get downloaded twice, unzipping archived files, and so forth.)\n",
    "One we have these data sets we'll use the libraries [rasterio](https://rasterio.readthedocs.io/en/stable/) and [xarray](https://docs.xarray.dev/en/stable/) to read the gridded data and [GeoJSON](https://github.com/jazzband/python-geojson) for the vector data.\n",
    "Pooch, rasterio, xarray, and GeoJSON will have been installed along with icepack, so you don't need to do this yourself."
   ]
  },
  {
   "cell_type": "markdown",
   "metadata": {},
   "source": [
    "### Geometry\n",
    "\n",
    "First, we'll fetch a [GeoJSON](https://en.wikipedia.org/wiki/GeoJSON) file describing the outline of the domain.\n",
    "GeoJSON is a common file format for geospatial vector data.\n",
    "In the previous demo, we generated a .geo file describing the outline of the domain, and then called gmsh to create a triangulation of the interior.\n",
    "For this demo, we'll use a different helper script that will turn our .geojson file into the .geo format that gmsh expects.\n",
    "\n",
    "To retrieve the external data, we'll use several functions in the module `icepack.datasets`.\n",
    "All of these functions start with `fetch`.\n",
    "These functions retrieve the external data from the internet and put them in a predictable location so they can be found easily later.\n",
    "The files will only be downloaded the first time you fetch them.\n",
    "This caching functionality will come in handy because we'll be using much of the same data in later demos.\n",
    "Here we're getting an outline of the Larsen C Ice Shelf from roughly the year 2015."
   ]
  },
  {
   "cell_type": "code",
   "execution_count": 1,
   "metadata": {},
   "outputs": [
    {
     "name": "stderr",
     "output_type": "stream",
     "text": [
      "/home/firedrake/firedrake/lib/python3.10/site-packages/pytools/__init__.py:2484: UserWarning: unable to find git revision\n",
      "  warn(\"unable to find git revision\")\n",
      "100%|█████████████████████████████████████| 9.11k/9.11k [00:00<00:00, 1.83MB/s]"
     ]
    },
    {
     "name": "stdout",
     "output_type": "stream",
     "text": [
      "/root/.cache/icepack/larsen-2015.geojson\n"
     ]
    },
    {
     "name": "stderr",
     "output_type": "stream",
     "text": [
      "\n"
     ]
    }
   ],
   "source": [
    "import icepack\n",
    "\n",
    "outline_filename = icepack.datasets.fetch_outline(\"larsen-2015\")\n",
    "print(outline_filename)"
   ]
  },
  {
   "cell_type": "markdown",
   "metadata": {},
   "source": [
    "We've got outlines of several other glaciers as well, including Larsen C from after the big calving event in 2017.\n",
    "You can see which ones are available like so:"
   ]
  },
  {
   "cell_type": "code",
   "execution_count": 2,
   "metadata": {},
   "outputs": [
    {
     "data": {
      "text/plain": [
       "['amery',\n",
       " 'filchner-ronne',\n",
       " 'getz',\n",
       " 'helheim',\n",
       " 'hiawatha',\n",
       " 'jakobshavn',\n",
       " 'larsen-2015',\n",
       " 'larsen-2018',\n",
       " 'larsen-2019',\n",
       " 'pine-island',\n",
       " 'ross']"
      ]
     },
     "execution_count": 2,
     "metadata": {},
     "output_type": "execute_result"
    }
   ],
   "source": [
    "icepack.datasets.get_glacier_names()"
   ]
  },
  {
   "cell_type": "markdown",
   "metadata": {},
   "source": [
    "To read the outline we'll use the GeoJSON package.\n",
    "We won't go into a great amount of detail about analyzing geospatial vector data here, but a few basic features are worth going over."
   ]
  },
  {
   "cell_type": "code",
   "execution_count": 3,
   "metadata": {},
   "outputs": [],
   "source": [
    "import geojson\n",
    "\n",
    "with open(outline_filename, \"r\") as outline_file:\n",
    "    outline = geojson.load(outline_file)"
   ]
  },
  {
   "cell_type": "markdown",
   "metadata": {},
   "source": [
    "From the user's perspective, a GeoJSON object looks like a big nested dictionary, and somewhere down the line are some arrays of coordinates.\n",
    "Here we'll access the [coordinate reference system (CRS)](https://en.wikipedia.org/wiki/Spatial_reference_system) that the data are stored in.\n",
    "The most common reference systems are standardized and given numeric ID codes by a standards body, the European Petroleum Survey Group (EPSG).\n",
    "The most common CRS for Antarctic data sets is EPSG:3031, a stereographic projection centered on the South Pole."
   ]
  },
  {
   "cell_type": "code",
   "execution_count": 4,
   "metadata": {},
   "outputs": [
    {
     "name": "stdout",
     "output_type": "stream",
     "text": [
      "urn:ogc:def:crs:EPSG::3031\n"
     ]
    }
   ],
   "source": [
    "print(outline[\"crs\"][\"properties\"][\"name\"])"
   ]
  },
  {
   "cell_type": "markdown",
   "metadata": {},
   "source": [
    "The data we care about in this GeoJSON object are the coordinates of all the features.\n",
    "Here we'll compute a bounding box for the domain to illustrate how one iterates over all of the features.\n",
    "In this case, every feature of this object is a `MultiLineString`."
   ]
  },
  {
   "cell_type": "code",
   "execution_count": 5,
   "metadata": {},
   "outputs": [],
   "source": [
    "import numpy as np\n",
    "\n",
    "δ = 50e3\n",
    "coords = np.array(list(geojson.utils.coords(outline)))\n",
    "xmin, xmax = coords[:, 0].min() - δ, coords[:, 0].max() + δ\n",
    "ymin, ymax = coords[:, 1].min() - δ, coords[:, 1].max() + δ"
   ]
  },
  {
   "cell_type": "markdown",
   "metadata": {},
   "source": [
    "We can plot the domain outline below to see that everything lines up right."
   ]
  },
  {
   "cell_type": "code",
   "execution_count": 6,
   "metadata": {},
   "outputs": [
    {
     "data": {
      "image/png": "[encoded data removed]",
      "text/plain": [
       "<Figure size 640x480 with 1 Axes>"
      ]
     },
     "metadata": {},
     "output_type": "display_data"
    }
   ],
   "source": [
    "import icepack.plot\n",
    "\n",
    "fig, axes = icepack.plot.subplots()\n",
    "\n",
    "for feature in outline[\"features\"]:\n",
    "    for line_string in feature[\"geometry\"][\"coordinates\"]:\n",
    "        xs = np.array(line_string)\n",
    "        axes.plot(xs[:, 0], xs[:, 1], linewidth=2)\n",
    "\n",
    "axes.set_xlabel(\"meters\");"
   ]
  },
  {
   "cell_type": "markdown",
   "metadata": {},
   "source": [
    "But without some additional context you might not know what each segment of the boundary corresponds to on the real ice shelf.\n",
    "To make that context more apparent, we'll show how to plot things on top of satellite imagery next."
   ]
  },
  {
   "cell_type": "markdown",
   "metadata": {},
   "source": [
    "### Imagery\n",
    "\n",
    "We'll use the [Mosaic of Antarctica (MOA)](https://nsidc.org/data/moa) as a background for all the plots we make in the following.\n",
    "This mosaic was created by compiling several hundred images from [MODIS](https://en.wikipedia.org/wiki/Moderate_Resolution_Imaging_Spectroradiometer).\n",
    "We could also use imagery from other satellites like Landsat-8 if we wanted higher spatial or radiometric resolution.\n",
    "\n",
    "The image mosaic is stored as a [GeoTIFF](https://en.wikipedia.org/wiki/GeoTIFF) file.\n",
    "GeoTIFF is a common storage format for geospatial data; it adds georeferencing information on top of the TIFF file format, which is often used for lossless compression of images.\n",
    "The function `rasterio.open` will give us an object representing the raster data set that we can then read from."
   ]
  },
  {
   "cell_type": "code",
   "execution_count": null,
   "metadata": {},
   "outputs": [],
   "source": [
    "import rasterio\n",
    "\n",
    "image_filename = icepack.datasets.fetch_mosaic_of_antarctica()\n",
    "image_file = rasterio.open(image_filename, \"r\")"
   ]
  },
  {
   "cell_type": "markdown",
   "metadata": {},
   "source": [
    "We've opened the file but we haven't read any data yet.\n",
    "The image file covers all of Antarctica, so it would be wasteful to read the entire image.\n",
    "Instead, we'll read a window that covers the bounding box we calculated above."
   ]
  },
  {
   "cell_type": "code",
   "execution_count": null,
   "metadata": {},
   "outputs": [],
   "source": [
    "transform = image_file.transform\n",
    "window = rasterio.windows.from_bounds(\n",
    "    left=xmin, bottom=ymin, right=xmax, top=ymax, transform=transform\n",
    ")"
   ]
  },
  {
   "cell_type": "markdown",
   "metadata": {},
   "source": [
    "Now we can pass the window to the `read` method of `image_file`, which will return a numpy array of the image values over the area that we want.\n",
    "The `indexes` argument specifies that we're reading only band 1; since this is a grayscale image, that's all we can read.\n",
    "For RGB or other multi-spectral images, you might want to get more of the spectral bands."
   ]
  },
  {
   "cell_type": "code",
   "execution_count": null,
   "metadata": {},
   "outputs": [],
   "source": [
    "image = image_file.read(indexes=1, window=window, masked=True)"
   ]
  },
  {
   "cell_type": "markdown",
   "metadata": {},
   "source": [
    "Now we can make a figure showing the image of the Larsen Ice Shelf together with the various segments of the domain boundary.\n",
    "To add in the spatial coordinates of all the image pixels, we've passed in the bounding box of the window that we created earlier to `imshow` via the keyword `extent`.\n",
    "The `vmin` and `vmax` arguments were tuned by trial and error to get a nice contrast level.\n",
    "You can make out where the ice is grounded or floating, where there are ice rises, and if you change the balance quite a bit you can even pick out rifts in the ice shelf."
   ]
  },
  {
   "cell_type": "code",
   "execution_count": null,
   "metadata": {},
   "outputs": [],
   "source": [
    "def subplots(*args, **kwargs):\n",
    "    fig, axes = icepack.plot.subplots()\n",
    "    xmin, ymin, xmax, ymax = rasterio.windows.bounds(window, transform)\n",
    "    extent = (xmin, xmax, ymin, ymax)\n",
    "    axes.imshow(\n",
    "        image, cmap=\"Greys_r\", vmin=12e3, vmax=16.38e3, extent=extent\n",
    "    )\n",
    "\n",
    "    return fig, axes"
   ]
  },
  {
   "cell_type": "markdown",
   "metadata": {},
   "source": [
    "We'll use this satellite image on every plot in this demo.\n",
    "Rather than add the same boilerplate code every time, the code above defines a wrapper function that creates figure and axes objects and adds the image to the plot."
   ]
  },
  {
   "cell_type": "code",
   "execution_count": null,
   "metadata": {},
   "outputs": [],
   "source": [
    "fig, axes = subplots()\n",
    "\n",
    "for feature in outline[\"features\"]:\n",
    "    for line_string in feature[\"geometry\"][\"coordinates\"]:\n",
    "        xs = np.array(line_string)\n",
    "        axes.plot(xs[:, 0], xs[:, 1], linewidth=2)\n",
    "\n",
    "axes.set_xlabel(\"meters\");"
   ]
  },
  {
   "cell_type": "markdown",
   "metadata": {},
   "source": [
    "Checking that the domain boundary lines up well with features that are visible in the satellite image is a good sanity check.\n",
    "This way we know that the coordinate systems haven't been mixed up, that you haven't accidentally loaded up a mesh of a totally different ice shelf, and so forth."
   ]
  },
  {
   "cell_type": "markdown",
   "metadata": {},
   "source": [
    "### Meshing\n",
    "\n",
    "Next we'll take this GeoJSON object and translate it into a geometry object from pygmsh.\n",
    "The function to do that is contained in the module `icepack.meshing`.\n",
    "We can then save this to a .geo file and run gmsh on the result, just like we did in the previous demo."
   ]
  },
  {
   "cell_type": "code",
   "execution_count": null,
   "metadata": {},
   "outputs": [],
   "source": [
    "geometry = icepack.meshing.collection_to_geo(outline)"
   ]
  },
  {
   "cell_type": "code",
   "execution_count": null,
   "metadata": {},
   "outputs": [],
   "source": [
    "with open(\"larsen.geo\", \"w\") as geo_file:\n",
    "    geo_file.write(geometry.get_code())"
   ]
  },
  {
   "cell_type": "markdown",
   "metadata": {},
   "source": [
    "The call to gmsh is the same as in the previous demo, but we'll make the output less verbose by passing the flag `-v 2` as well."
   ]
  },
  {
   "cell_type": "code",
   "execution_count": null,
   "metadata": {},
   "outputs": [],
   "source": [
    "!gmsh -2 -format msh2 -v 2 -o larsen.msh larsen.geo"
   ]
  },
  {
   "cell_type": "markdown",
   "metadata": {},
   "source": [
    "Now that we've generated the mesh we can read it just like we did in the previous demo."
   ]
  },
  {
   "cell_type": "code",
   "execution_count": null,
   "metadata": {},
   "outputs": [],
   "source": [
    "import firedrake\n",
    "\n",
    "mesh = firedrake.Mesh(\"larsen.msh\")"
   ]
  },
  {
   "cell_type": "markdown",
   "metadata": {},
   "source": [
    "Finally we'll make a plot of the mesh so that we can see all the boundary IDs.\n",
    "Boundary segments 1 and 3 correspond to the calving terminus and these are where Neumann boundary conditions should be applied.\n",
    "Segment 2 borders the Gipps Ice Rise, and the remaining segments are where ice is flowing in from.\n",
    "To make things a little clearer visually we're also specifying a muuch smaller line weight for the interior edges compared to the boundary edges."
   ]
  },
  {
   "cell_type": "code",
   "execution_count": null,
   "metadata": {},
   "outputs": [],
   "source": [
    "fig, axes = subplots()\n",
    "axes.set_xlabel(\"meters\")\n",
    "kwargs = {\n",
    "    \"interior_kw\": {\"linewidth\": 0.25},\n",
    "    \"boundary_kw\": {\"linewidth\": 2},\n",
    "}\n",
    "firedrake.triplot(mesh, axes=axes, **kwargs)\n",
    "axes.legend();"
   ]
  },
  {
   "cell_type": "markdown",
   "metadata": {},
   "source": [
    "### Input data\n",
    "\n",
    "Next, we have to load the input data, starting with the ice thickness.\n",
    "The BedMachine Antarctica dataset is hosted on NSIDC; the function `fetch_bedmachine_antarctica` will prompt you for your EarthData login if need be and download the dataset from the internet."
   ]
  },
  {
   "cell_type": "code",
   "execution_count": null,
   "metadata": {},
   "outputs": [],
   "source": [
    "thickness_filename = icepack.datasets.fetch_bedmachine_antarctica()"
   ]
  },
  {
   "cell_type": "markdown",
   "metadata": {},
   "source": [
    "The data are stored in a [NetCDF](https://en.wikipedia.org/wiki/NetCDF) file.\n",
    "NetCDF is a common storage format for geophysical data, especially in atmospheric science.\n",
    "NetCDF offers a lot more flexibility than GeoTIFF in terms of what kind of data can be stored and how.\n",
    "For example, while a GeoTIFF can store a 2D image, the atmospheric scientists wanted a format that could also work well with 3D or 4D data representing the state of the whole atmosphere through time.\n",
    "The cost of this flexibility is that you have to know something about the schema or data layout before you use it.\n",
    "For example, fields are stored by name in a NetCDF file, and you have to know what all the names are.\n",
    "\n",
    "Here we'll read in the file using the package xarray, which provides very convenient routines to work with NetCDF files.\n",
    "If we print out the dataset we can see the names of all its dimensions (`x` and `y`) as well as all the fields that are stored.\n",
    "The one we want is called `thickness`."
   ]
  },
  {
   "cell_type": "code",
   "execution_count": null,
   "metadata": {},
   "outputs": [],
   "source": [
    "import xarray\n",
    "\n",
    "thickness_dataset = xarray.open_dataset(thickness_filename)\n",
    "thickness_dataset"
   ]
  },
  {
   "cell_type": "markdown",
   "metadata": {},
   "source": [
    "There are several fields contained in this one NetCDF file.\n",
    "To pull out the thickness, we can pretend like it's a dictionary with `\"thickness\"` as the key."
   ]
  },
  {
   "cell_type": "code",
   "execution_count": null,
   "metadata": {},
   "outputs": [],
   "source": [
    "thickness = thickness_dataset[\"thickness\"]"
   ]
  },
  {
   "cell_type": "markdown",
   "metadata": {},
   "source": [
    "Next, we have to fetch the velocity data, which are also hosted on NSIDC.\n",
    "The file is ~6GiB, so if you run this demo yourself, this step could take a while."
   ]
  },
  {
   "cell_type": "code",
   "execution_count": null,
   "metadata": {},
   "outputs": [],
   "source": [
    "velocity_filename = icepack.datasets.fetch_measures_antarctica()"
   ]
  },
  {
   "cell_type": "markdown",
   "metadata": {},
   "source": [
    "The velocity dataset is also stored as a NetCDF file; the names of the fields we want are `VX` and `VY`."
   ]
  },
  {
   "cell_type": "code",
   "execution_count": null,
   "metadata": {},
   "outputs": [],
   "source": [
    "velocity_dataset = xarray.open_dataset(velocity_filename)\n",
    "vx = velocity_dataset[\"VX\"]\n",
    "vy = velocity_dataset[\"VY\"]"
   ]
  },
  {
   "cell_type": "markdown",
   "metadata": {},
   "source": [
    "### Modeling\n",
    "\n",
    "Having done all the leg work to make a mesh and get a good set of input data, the modeling itself should be fairly familiar from the last step.\n",
    "We'll assume that the ice temperature is a uniform -13C.\n",
    "\n",
    "One thing is substantially different from previous examples.\n",
    "Before, we called the function `firedrake.SpatialCoordinate` to get some symbolic handles `x, y` for the mesh coordinates, and we created symbolic expressions to define the input data to our problem analytically.\n",
    "Now that we're working with real glaciers, we're reading in all the observational data using rasterio, but Firedrake doesn't know how to interpolate a rasterio dataset.\n",
    "The function `icepack.interpolate` works as a layer on top of the firedrake interpolate function and knows what to do with gridded data sets, whether we read them in using xarray or rasterio."
   ]
  },
  {
   "cell_type": "code",
   "execution_count": null,
   "metadata": {},
   "outputs": [],
   "source": [
    "Q = firedrake.FunctionSpace(mesh, \"CG\", 2)\n",
    "V = firedrake.VectorFunctionSpace(mesh, \"CG\", 2)\n",
    "\n",
    "h0 = icepack.interpolate(thickness, Q)\n",
    "u0 = icepack.interpolate((vx, vy), V)"
   ]
  },
  {
   "cell_type": "code",
   "execution_count": null,
   "metadata": {},
   "outputs": [],
   "source": [
    "fig, axes = subplots()\n",
    "streamlines = firedrake.streamplot(u0, resolution=2500, axes=axes)\n",
    "fig.colorbar(streamlines, label=\"meters/year\");"
   ]
  },
  {
   "cell_type": "markdown",
   "metadata": {},
   "source": [
    "We'll set up the model in the same way as the synthetic ice shelf demo, but there are more boundary segments for which we need to apply Dirichlet conditions."
   ]
  },
  {
   "cell_type": "code",
   "execution_count": null,
   "metadata": {},
   "outputs": [],
   "source": [
    "T = firedrake.Constant(260)\n",
    "A = icepack.rate_factor(T)\n",
    "model = icepack.models.IceShelf()\n",
    "opts = {\"dirichlet_ids\": [2, 4, 5, 6, 7, 8, 9], \"tolerance\": 1e-6}\n",
    "solver = icepack.solvers.FlowSolver(model, **opts)"
   ]
  },
  {
   "cell_type": "markdown",
   "metadata": {},
   "source": [
    "Next, we'll try to solve the shallow shelf equations to obtain the initial ice velocity."
   ]
  },
  {
   "cell_type": "code",
   "execution_count": null,
   "metadata": {},
   "outputs": [],
   "source": [
    "try:\n",
    "    u = solver.diagnostic_solve(\n",
    "        velocity=u0, thickness=h0, fluidity=A\n",
    "    )\n",
    "except:\n",
    "    print(\"Oh no, nonlinear solver did not converge!\")"
   ]
  },
  {
   "cell_type": "markdown",
   "metadata": {},
   "source": [
    "And now we've got our first taste of how difficult working with real data can be!\n",
    "Why did the nonlinear solver fail to converge?\n",
    "The ice thickness map from BedMachine is fine enough to resolve pretty small-scale topography, even down to the depth of rifts in the ice shelf.\n",
    "Having such a high-resolution dataset means that the thickness can jump over a very small distance.\n",
    "This could result in an unphysically large driving stress, which is shown in the plot below."
   ]
  },
  {
   "cell_type": "code",
   "execution_count": null,
   "metadata": {},
   "outputs": [],
   "source": [
    "from icepack.constants import (\n",
    "    ice_density as ρ_I,\n",
    "    water_density as ρ_W,\n",
    "    gravity as g,\n",
    ")\n",
    "from firedrake import grad\n",
    "\n",
    "τ_d = firedrake.interpolate(\n",
    "    -1e3 * ρ_I * g * (1 - ρ_I / ρ_W) * grad(h0**2), V\n",
    ")"
   ]
  },
  {
   "cell_type": "code",
   "execution_count": null,
   "metadata": {},
   "outputs": [],
   "source": [
    "fig, axes = subplots()\n",
    "colors = firedrake.tripcolor(τ_d, vmin=0, vmax=100, axes=axes)\n",
    "fig.colorbar(colors, label=\"kPa\");"
   ]
  },
  {
   "cell_type": "markdown",
   "metadata": {},
   "source": [
    "In many regions the driving stress exceeds 100 kilopascals, which would be reasonable for a steep Greenland outlet glacier, not for a floating ice shelf.\n",
    "\n",
    "A quick hack around this would be to synthesize a new, smoother thickness field makes that matches the direct observations as well as possible.\n",
    "In other words, we want a field $h$ that minimizes the following functional:\n",
    "\n",
    "$$J(h) = \\frac{1}{2}\\int_\\Omega\\left((h - h^o)^2 + \\alpha^2|\\nabla h|^2\\right)dx.$$\n",
    "\n",
    "The first term quantifies the degree to which our modeled thickness $h$ matches the observations $h^o$, while the second term quantifies how oscillatory $h$ is.\n",
    "The factor $\\alpha$ is a length that dictates the distance over which we want to penalize sharp oscillations.\n",
    "I came up with a smoothing length of 2km by trial and error.\n",
    "The following code will find a minimizer of $J$ by looking for a thickness at which the derivative of $J$ is zero."
   ]
  },
  {
   "cell_type": "code",
   "execution_count": null,
   "metadata": {},
   "outputs": [],
   "source": [
    "from firedrake import assemble, inner, dx\n",
    "h = h0.copy(deepcopy=True)\n",
    "α = firedrake.Constant(2e3)\n",
    "J = 0.5 * (h - h0)**2 * dx + 0.5 * α**2 * inner(grad(h), grad(h)) * dx\n",
    "F = firedrake.derivative(J, h)\n",
    "firedrake.solve(F == 0, h)"
   ]
  },
  {
   "cell_type": "markdown",
   "metadata": {},
   "source": [
    "The relative difference between the raw and smoothed thickness is around 3%.\n",
    "That's not a huge relative error; the corrections for tides or for air or water in the firn column are comparable."
   ]
  },
  {
   "cell_type": "code",
   "execution_count": null,
   "metadata": {},
   "outputs": [],
   "source": [
    "print(assemble(abs(h - h0) * dx) / assemble(h * dx))"
   ]
  },
  {
   "cell_type": "markdown",
   "metadata": {},
   "source": [
    "Finally, the driving stress of the filtered ice thickness tops out around 20 kPa, which is much more reasonable."
   ]
  },
  {
   "cell_type": "code",
   "execution_count": null,
   "metadata": {},
   "outputs": [],
   "source": [
    "τ_d = firedrake.interpolate(\n",
    "    -1e3 * ρ_I * g * (1 - ρ_I / ρ_W) * grad(h**2), V\n",
    ")\n",
    "fig, axes = subplots()\n",
    "colors = firedrake.tripcolor(τ_d, vmin=0, vmax=20, axes=axes)\n",
    "fig.colorbar(colors, label=\"kPa\");"
   ]
  },
  {
   "cell_type": "markdown",
   "metadata": {},
   "source": [
    "With this regularized input data the nonlinear solver converges.\n",
    "In general, the nonlinear solvers in icepack should always converge on reasonable input data, and sometimes even on unreasonable data too.\n",
    "A sharp gradient in an overly-resolved thickness field, however, will create such large driving stresses as to no longer be reasonable."
   ]
  },
  {
   "cell_type": "code",
   "execution_count": null,
   "metadata": {},
   "outputs": [],
   "source": [
    "u = solver.diagnostic_solve(\n",
    "    velocity=u0, \n",
    "    thickness=h,\n",
    "    fluidity=A,\n",
    ")"
   ]
  },
  {
   "cell_type": "markdown",
   "metadata": {},
   "source": [
    "The computed velocity is shown below; the result looks pretty reasonable if we're going by the speeds."
   ]
  },
  {
   "cell_type": "code",
   "execution_count": null,
   "metadata": {},
   "outputs": [],
   "source": [
    "fig, axes = subplots()\n",
    "streamlines = firedrake.streamplot(u, resolution=2500, axes=axes)\n",
    "fig.colorbar(streamlines, label=\"meters/year\");"
   ]
  },
  {
   "cell_type": "markdown",
   "metadata": {},
   "source": [
    "As a further sanity check, we can see how far off the computed velocity is from the observed values.\n",
    "We get a fairly reasonable approximation even with a spatially homogeneous guess for the ice temperature."
   ]
  },
  {
   "cell_type": "code",
   "execution_count": null,
   "metadata": {},
   "outputs": [],
   "source": [
    "print(icepack.norm(u - u0) / icepack.norm(u0))"
   ]
  },
  {
   "cell_type": "markdown",
   "metadata": {},
   "source": [
    "Ballpark estimate, the surface and basal mass balance of Larsen C are +30 and -30 cm/yr respectively, so we can take the total to be 0.\n",
    "Let's simulate the evolution of the ice shelf for the next 10 years.\n",
    "The code for this loop should be familiar from the previous example."
   ]
  },
  {
   "cell_type": "code",
   "execution_count": null,
   "metadata": {},
   "outputs": [],
   "source": [
    "import tqdm\n",
    "\n",
    "a = firedrake.Function(Q)\n",
    "h_init = h.copy(deepcopy=True)\n",
    "\n",
    "final_time = 10.0\n",
    "num_steps = 40\n",
    "dt = final_time / num_steps\n",
    "for step in tqdm.trange(num_steps):\n",
    "    h = solver.prognostic_solve(\n",
    "        dt,\n",
    "        thickness=h,\n",
    "        velocity=u,\n",
    "        accumulation=a,\n",
    "        thickness_inflow=h_init,\n",
    "    )\n",
    "\n",
    "    u = solver.diagnostic_solve(\n",
    "        velocity=u,\n",
    "        thickness=h,\n",
    "        fluidity=A,\n",
    "    )"
   ]
  },
  {
   "cell_type": "markdown",
   "metadata": {},
   "source": [
    "In the plot below we're using the `alpha` keyword argument to the contouring function.\n",
    "This makes the thickness contours about half-way transparent so we can see the satellite image underneath."
   ]
  },
  {
   "cell_type": "code",
   "execution_count": null,
   "metadata": {},
   "outputs": [],
   "source": [
    "fig, axes = subplots()\n",
    "colors = firedrake.tripcolor(h, axes=axes)\n",
    "fig.colorbar(colors, label=\"meters\");"
   ]
  },
  {
   "cell_type": "markdown",
   "metadata": {},
   "source": [
    "By plotting the difference between the modeled thickness after 10 years and the initial thickness, we can see the propagation of the rifts downstream.\n",
    "This effect is best visualized with a diverging colormap that makes the 0-contour really obvious."
   ]
  },
  {
   "cell_type": "code",
   "execution_count": null,
   "metadata": {},
   "outputs": [],
   "source": [
    "δh = firedrake.Function(Q)\n",
    "δh.assign(h - h_init)\n",
    "\n",
    "fig, axes = subplots()\n",
    "contours = firedrake.tripcolor(\n",
    "    δh, vmin=-20, vmax=+20, axes=axes, cmap=\"RdBu\"\n",
    ")\n",
    "fig.colorbar(contours, label=\"meters\");"
   ]
  },
  {
   "cell_type": "markdown",
   "metadata": {},
   "source": [
    "The greatest mass losses occurred nearest to the calving terminus.\n",
    "The pattern in mass change near the rifts on the right edge of the domain is more from advecting those oscillations downstream.\n",
    "From the overall pattern, it's clear that the ice shelf is losing mass.\n",
    "To see exactly how much, we can integrate the total thickness change and divide by the area of the shelf."
   ]
  },
  {
   "cell_type": "code",
   "execution_count": null,
   "metadata": {},
   "outputs": [],
   "source": [
    "area = assemble(firedrake.Constant(1) * dx(mesh))\n",
    "print(assemble(δh * dx) / area)"
   ]
  },
  {
   "cell_type": "markdown",
   "metadata": {},
   "source": [
    "Seeing as the simulation ran for 10 years, this isn't a wildly unrealistic number.\n",
    "Instead of guessing the net accumulation rate, we could improve the fidelity of our simulation by forcing it with the output of a climate model."
   ]
  },
  {
   "cell_type": "markdown",
   "metadata": {},
   "source": [
    "### Conclusion\n",
    "\n",
    "In the last demo, we showed how to simulate ice shelf flow using synthetic data.\n",
    "Here we showed how to load in a generated mesh and observational data, and we used this same functionality to simulate a real ice shelf.\n",
    "\n",
    "Many real data sets require some amount of preprocessing before they can be used for modeling.\n",
    "For example, many velocity data sets have missing pixels or patches due to noise in the optical or radar imagery, and these missing points have to be filled in somehow.\n",
    "The Bedmap2 thickness also contains processing artifacts that are visible as depressions running diagonally across the ice shelf.\n",
    "These artifacts could be removed by using a low-pass filter on the gridded data, although this might also wash out some real features like the many rifts in the ice.\n",
    "\n",
    "In order to run the simulation, we had to come up with a guess for the ice rheology.\n",
    "The simple choice we made is quite far from the real value and in a subsequent demo we'll show how to estimate it from observational data."
   ]
  }
 ],
 "metadata": {
  "kernelspec": {
   "display_name": "Python 3 (ipykernel)",
   "language": "python",
   "name": "python3"
  },
  "language_info": {
   "codemirror_mode": {
    "name": "ipython",
    "version": 3
   },
   "file_extension": ".py",
   "mimetype": "text/x-python",
   "name": "python",
   "nbconvert_exporter": "python",
   "pygments_lexer": "ipython3",
   "version": "3.10.12"
  }
 },
 "nbformat": 4,
 "nbformat_minor": 4
}
